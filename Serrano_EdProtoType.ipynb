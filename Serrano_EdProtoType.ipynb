{
  "cells": [
    {
      "cell_type": "markdown",
      "metadata": {
        "id": "01496206"
      },
     
      "id": "01496206"
    },
    {
      "cell_type": "code",
      "execution_count": null,
      "metadata": {
        "colab": {
          "base_uri": "https://localhost:8080/"
        },
        "id": "nktljgYh5rLn",
        "outputId": "d794a3d6-0ac8-4532-99f8-1445b74bfd6a"
      },
      "outputs": [
        {
          "output_type": "stream",
          "name": "stdout",
          "text": [
            "Drive already mounted at /content/drive; to attempt to forcibly remount, call drive.mount(\"/content/drive\", force_remount=True).\n"
          ]
        }
      ],
      "source": [
        "from google.colab import drive\n",
        "drive.mount('/content/drive')"
      ],
      "id": "nktljgYh5rLn"
    },
    {
      "cell_type": "code",
      "execution_count": null,
      "metadata": {
        "id": "7d95c89d"
      },
      "outputs": [],
      "source": [
        "import numpy as np\n",
        "import pandas as pd\n",
        "import seaborn as sn\n",
        "import matplotlib.pyplot as plt\n",
        "import time\n",
        "\n",
        "from PIL import Image\n",
        "from glob import glob\n",
        "\n",
        "from torch import nn\n",
        "import torchvision.models as models\n",
        "from torchvision import transforms\n",
        "from torchsummary import summary\n",
        "\n",
        "from skimage.exposure import histogram\n",
        "from skimage.color import rgb2gray\n",
        "\n",
        "from sklearn.pipeline import make_pipeline\n",
        "from sklearn.preprocessing import StandardScaler\n",
        "from sklearn.svm import SVC\n",
        "from sklearn.ensemble import AdaBoostClassifier\n",
        "from sklearn.ensemble import GradientBoostingClassifier\n",
        "from sklearn.metrics import accuracy_score, classification_report\n",
        "from sklearn.model_selection import train_test_split\n",
        "from sklearn.model_selection import GridSearchCV\n",
        "from sklearn.metrics import confusion_matrix\n",
        "from skimage.feature import hog\n",
        "from skimage import exposure\n",
        "from sklearn.tree import DecisionTreeClassifier\n",
        "from sklearn.ensemble import RandomForestClassifier\n",
        "from sklearn.decomposition import PCA\n",
        "from sklearn.pipeline import Pipeline"
      ],
      "id": "7d95c89d"
    },
    {
      "cell_type": "code",
      "execution_count": null,
      "metadata": {
        "colab": {
          "base_uri": "https://localhost:8080/"
        },
        "id": "2ef542d3",
        "outputId": "b4094bb4-b386-41f5-bf48-132986c5c731"
      },
      "outputs": [
        {
          "output_type": "stream",
          "name": "stdout",
          "text": [
            "['buildings', 'forest', 'glacier', 'mountain', 'sea', 'street']\n"
          ]
        }
      ],
      "source": [
        "# Path to Dataset\n",
        "root_path = '/content/drive/MyDrive/Intel Training Dataset/'\n",
        "\n",
        "# split into subfolders based on class label\n",
        "subfolders = sorted(glob(root_path + '*'))\n",
        "label_names = [p.split('/')[-1] for p in subfolders]\n",
        "\n",
        "print(label_names)"
      ],
      "id": "2ef542d3"
    },
    {
      "cell_type": "code",
      "source": [
        "start_time = time.time()\n",
        "resnet50 = models.resnet50(pretrained=True)\n",
        "\n",
        "#Drop last layer of the network\n",
        "def slice_model(original_model, from_layer=None, to_layer=None):\n",
        "  return nn.Sequential(*list(original_model.children()))[from_layer:to_layer]\n",
        "\n",
        "model_conv_features = slice_model(resnet50, to_layer=-1).to('cpu')\n",
        "summary(model_conv_features, input_size=(3,224,224))"
      ],
      "metadata": {
        "id": "1aBuwj77xsM5"
      },
      "id": "1aBuwj77xsM5",
      "execution_count": null,
      "outputs": []
    },
    {
      "cell_type": "code",
      "source": [
        "# preprocess\n",
        "preprocess = transforms.Compose([\n",
        "    transforms.Resize(256),\n",
        "    transforms.CenterCrop(224),\n",
        "    transforms.ToTensor(),\n",
        "    transforms.Normalize(mean=[0.485, 0.456, 0.406], std=[0.229, 0.224, 0.225])\n",
        "])\n",
        "\n",
        "def retype_image(in_img):\n",
        "  if np.max(in_img) > 1:\n",
        "    in_img = in_img.astype(np.uint8)\n",
        "  else:\n",
        "    in_img = (in_img * 255.0).astype(np.uint8)\n",
        "  return in_img\n",
        "\n",
        "duration = (time.time()-start_time) /60\n",
        "print(f\"It took {duration: .2f} seconds to set up the ResNet50\")"
      ],
      "metadata": {
        "colab": {
          "base_uri": "https://localhost:8080/"
        },
        "id": "YQwHoIhKxyXb",
        "outputId": "40df7eda-1d7c-4ec4-bec8-a9946c2d2065"
      },
      "id": "YQwHoIhKxyXb",
      "execution_count": null,
      "outputs": [
        {
          "output_type": "stream",
          "name": "stdout",
          "text": [
            "It took  0.04 seconds to set up the ResNet50\n"
          ]
        }
      ]
    },
    {
      "cell_type": "code",
      "source": [
        "resnet50.eval()"
      ],
      "metadata": {
        "id": "GPgwK7FPzK_B"
      },
      "id": "GPgwK7FPzK_B",
      "execution_count": null,
      "outputs": []
    },
    {
      "cell_type": "code",
      "source": [
        "start_time = time.time()\n",
        "num_per_class = 50\n",
        "\n",
        "features = []\n",
        "labels = []\n",
        "\n",
        "for i in range(len(subfolders)):\n",
        "  fnames = sorted(glob(subfolders[i]+ '/*.jpg'))\n",
        "\n",
        "  for j in range(num_per_class):\n",
        "    img = plt.imread(fnames[j])\n",
        "    proc_img = preprocess(Image.fromarray(retype_image(img)))\n",
        "    feat = model_conv_features(proc_img.unsqueeze(0).to('cpu')).squeeze().detach().numpy()\n",
        "    # Add HOG features\n",
        "    gray_img = rgb2gray(img)  # Convert the image to grayscale\n",
        "    fd, hog_image = hog(gray_img, orientations=8, pixels_per_cell=(8, 8),\n",
        "                        cells_per_block=(1, 1), visualize=True)\n",
        "    # Concatenate the HOG features to the existing deep learning features\n",
        "    combined_features = np.concatenate((feat, fd))\n",
        "    features.append(combined_features)\n",
        "    labels.append(i)\n",
        "\n",
        "features = np.array(features)\n",
        "labels = np.array(labels)\n",
        "print(features.shape)\n",
        "# First num is img count and second is feature vector count\n",
        "duration = (time.time()-start_time) / 60\n",
        "print(f\"It took {duration: .2f} minutes to extract the feature's from our data\")"
      ],
      "metadata": {
        "colab": {
          "base_uri": "https://localhost:8080/"
        },
        "id": "CHYUiyE_znSf",
        "outputId": "cb381d1f-326a-4390-f13b-9cab6ca520a8"
      },
      "id": "CHYUiyE_znSf",
      "execution_count": null,
      "outputs": [
        {
          "output_type": "stream",
          "name": "stdout",
          "text": [
            "(300, 4640)\n",
            "It took  3.46 minutes to extract the feature's from our data\n"
          ]
        }
      ]
    },
    {
      "cell_type": "code",
      "source": [
        "X_train, X_test, y_train, y_test = train_test_split(\n",
        "    features,\n",
        "    labels,\n",
        "    test_size=0.2,\n",
        "    stratify=labels,\n",
        "    random_state=0\n",
        ")"
      ],
      "metadata": {
        "id": "1eUA4OaIzpIK"
      },
      "id": "1eUA4OaIzpIK",
      "execution_count": null,
      "outputs": []
    },
    {
      "cell_type": "code",
      "source": [
        "clf = SVC()\n",
        "clf.fit(X_train,y_train)\n",
        "print({accuracy_score(y_test,clf.predict(X_test))})"
      ],
      "metadata": {
        "colab": {
          "base_uri": "https://localhost:8080/"
        },
        "id": "wgNf2oMiFiD9",
        "outputId": "3ade4801-e8d2-47c6-d0f6-3ff75f25ce01"
      },
      "id": "wgNf2oMiFiD9",
      "execution_count": null,
      "outputs": [
        {
          "output_type": "stream",
          "name": "stdout",
          "text": [
            "{0.9333333333333333}\n"
          ]
        }
      ]
    },
    {
      "cell_type": "code",
      "source": [
        "rf_classifier = RandomForestClassifier(random_state=42)\n",
        "rf_classifier.fit(X_train, y_train)\n",
        "\n",
        "y_pred = rf_classifier.predict(X_train)\n",
        "accuracy = accuracy_score(y_train, y_pred) * 100\n",
        "print(f\"Train Accuracy: {accuracy: .3f}%\")\n",
        "y_pred = rf_classifier.predict(X_test)\n",
        "accuracy = accuracy_score(y_test, y_pred) * 100\n",
        "print(f\"Test Accuracy: {accuracy: .3f}%\")"
      ],
      "metadata": {
        "colab": {
          "base_uri": "https://localhost:8080/"
        },
        "id": "QjQ9BQ55u-ap",
        "outputId": "7a4a24a8-aa61-4641-c49c-65bdcdaa0820"
      },
      "id": "QjQ9BQ55u-ap",
      "execution_count": null,
      "outputs": [
        {
          "output_type": "stream",
          "name": "stdout",
          "text": [
            "Train Accuracy:  100.000%\n",
            "Test Accuracy:  91.667%\n"
          ]
        }
      ]
    },
    {
      "cell_type": "code",
      "source": [
        "start_time = time.time()\n",
        "grid = {'n_estimators': [139,140,141],\n",
        "        }\n",
        "\n",
        "rf_classifier = RandomForestClassifier(random_state=42)\n",
        "\n",
        "grid_search = GridSearchCV(rf_classifier, grid, cv=10, scoring='accuracy')\n",
        "grid_search.fit(X_train, y_train)\n",
        "\n",
        "\n",
        "print(\"Best Parameters:\", grid_search.best_params_)\n",
        "best_rf_classifier = grid_search.best_estimator_\n",
        "\n",
        "# Make predictions on the training/test data\n",
        "y_train_pred = best_rf_classifier.predict(X_train)\n",
        "y_test_pred = best_rf_classifier.predict(X_test)\n",
        "\n",
        "# Evaluate the performance on the training/test data\n",
        "train_accuracy = accuracy_score(y_train, y_train_pred) * 100\n",
        "print(f\"Training Accuracy: {train_accuracy: .2f}%\")\n",
        "\n",
        "test_accuracy = accuracy_score(y_test, y_test_pred) * 100\n",
        "print(f\"Testing Accuracy: {test_accuracy: .2f}%\")\n",
        "duration = (time.time()-start_time) / 60\n",
        "print(f\"This grid_search took {duration: .2f} minutes\")"
      ],
      "metadata": {
        "id": "XJcL9F2gwkLI",
        "colab": {
          "base_uri": "https://localhost:8080/"
        },
        "outputId": "95260629-0ac1-4b2a-fe33-9964df5d398b"
      },
      "id": "XJcL9F2gwkLI",
      "execution_count": null,
      "outputs": [
        {
          "output_type": "stream",
          "name": "stdout",
          "text": [
            "Best Parameters: {'n_estimators': 140}\n",
            "Training Accuracy:  100.00%\n",
            "Testing Accuracy:  91.67%\n",
            "This grid_search took  0.59 minutes\n"
          ]
        }
      ]
    },
    {
      "cell_type": "code",
      "source": [
        "class_names = [label_names[0],label_names[1],label_names[2],label_names[3],label_names[4],label_names[5]]\n",
        "print(f\"Testing Accuracy: {train_accuracy: .2f}%\")\n",
        "C = confusion_matrix(y_train, y_train_pred)\n",
        "sn.heatmap(C, annot=True, cmap='Blues', xticklabels=class_names, yticklabels=class_names)"
      ],
      "metadata": {
        "colab": {
          "base_uri": "https://localhost:8080/",
          "height": 471
        },
        "id": "ylfl8YcZDhOK",
        "outputId": "fda6cf7d-0984-49ac-f300-ba64efcf7f65"
      },
      "id": "ylfl8YcZDhOK",
      "execution_count": null,
      "outputs": [
        {
          "output_type": "stream",
          "name": "stdout",
          "text": [
            "Testing Accuracy:  100.00%\n"
          ]
        },
        {
          "output_type": "execute_result",
          "data": {
            "text/plain": [
              "<Axes: >"
            ]
          },
          "metadata": {},
          "execution_count": 187
        },
        {
          "output_type": "display_data",
          "data": {
            "text/plain": [
              "<Figure size 640x480 with 2 Axes>"
            ],
            "image/png": "[encoded data removed]"
          },
          "metadata": {}
        }
      ]
    },
    {
      "cell_type": "code",
      "source": [
        "print(f\"Testing Accuracy: {test_accuracy: .2f}%\")\n",
        "C = confusion_matrix(y_test, y_test_pred)\n",
        "sn.heatmap(C, annot=True, cmap='Blues', xticklabels=class_names, yticklabels=class_names)"
      ],
      "metadata": {
        "colab": {
          "base_uri": "https://localhost:8080/",
          "height": 471
        },
        "id": "ovQLWNwI76pk",
        "outputId": "c88fce9f-05dc-4dd2-d89a-e2b469f8c4d9"
      },
      "id": "ovQLWNwI76pk",
      "execution_count": null,
      "outputs": [
        {
          "output_type": "stream",
          "name": "stdout",
          "text": [
            "Testing Accuracy:  91.67%\n"
          ]
        },
        {
          "output_type": "execute_result",
          "data": {
            "text/plain": [
              "<Axes: >"
            ]
          },
          "metadata": {},
          "execution_count": 188
        },
        {
          "output_type": "display_data",
          "data": {
            "text/plain": [
              "<Figure size 640x480 with 2 Axes>"
            ],
            "image/png": "[encoded data removed]"
          },
          "metadata": {}
        }
      ]
    }
  ],
  "metadata": {
    "colab": {
      "provenance": []
    },
    "kernelspec": {
      "display_name": "Python 3 (ipykernel)",
      "language": "python",
      "name": "python3"
    },
    "language_info": {
      "codemirror_mode": {
        "name": "ipython",
        "version": 3
      },
      "file_extension": ".py",
      "mimetype": "text/x-python",
      "name": "python",
      "nbconvert_exporter": "python",
      "pygments_lexer": "ipython3",
      "version": "3.11.6"
    }
  },
  "nbformat": 4,
  "nbformat_minor": 5
}
